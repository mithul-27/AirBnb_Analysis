{
 "cells": [
  {
   "cell_type": "code",
   "execution_count": 43,
   "metadata": {},
   "outputs": [],
   "source": [
    "import json\n",
    "import pandas as pd\n",
    "import numpy as np\n",
    "import mysql.connector\n",
    "\n",
    "d=open('sample_airbnb.json','r')\n",
    "airbnb_data=json.load(d)\n"
   ]
  },
  {
   "cell_type": "code",
   "execution_count": 60,
   "metadata": {},
   "outputs": [],
   "source": [
    "hotel_data=[]\n",
    "for i in airbnb_data:\n",
    "        data=dict(\n",
    "                id = i['_id'],\n",
    "                listing_url = i['listing_url'],\n",
    "                name = i['name'],\n",
    "                description = i['description'],\n",
    "                house_rules = i['house_rules'],\n",
    "                property_type = i['property_type'],\n",
    "                room_type = i['room_type'],\n",
    "                bed_type = i.get('bed_type'),\n",
    "                min_nights = i['minimum_nights'],\n",
    "                max_nights = i['maximum_nights'],\n",
    "                cancellation_policy = i['cancellation_policy'],\n",
    "                accommodates = i['accommodates'],\n",
    "                total_bedrooms = i.get('bedrooms'),\n",
    "                total_beds = i.get('beds'),\n",
    "                availability = i['availability']['availability_365'],\n",
    "                price = i['price'],\n",
    "                security_deposit = i.get('security_deposit'),\n",
    "                cleaning_fee = i.get('cleaning_fee'),\n",
    "                extra_people = i['extra_people'],\n",
    "                guests_included= i['guests_included'],\n",
    "                no_of_reviews = i['number_of_reviews'],\n",
    "                review_score = i.get('review_scores', {}).get('review_scores_rating'),\n",
    "                amenities = ', '.join(i['amenities']),\n",
    "                host_id = i['host']['host_id'],\n",
    "                host_name = i['host']['host_name'],\n",
    "                Host_total_listings = i['host']['host_total_listings_count'],\n",
    "                street = i['address']['street'],\n",
    "                country = i['address']['country'],\n",
    "                country_code = i['address']['country_code'],\n",
    "                Longitude = i['address']['location']['coordinates'][0],\n",
    "                Latitude = i['address']['location']['coordinates'][1]\n",
    "                    )\n",
    "        hotel_data.append(data)\n",
    "\n",
    "Hotel_df=pd.DataFrame(hotel_data)"
   ]
  },
  {
   "cell_type": "code",
   "execution_count": 66,
   "metadata": {},
   "outputs": [
    {
     "name": "stdout",
     "output_type": "stream",
     "text": [
      "<class 'pandas.core.frame.DataFrame'>\n",
      "RangeIndex: 5555 entries, 0 to 5554\n",
      "Data columns (total 31 columns):\n",
      " #   Column               Non-Null Count  Dtype  \n",
      "---  ------               --------------  -----  \n",
      " 0   id                   5555 non-null   object \n",
      " 1   listing_url          5555 non-null   object \n",
      " 2   name                 5555 non-null   object \n",
      " 3   description          5555 non-null   object \n",
      " 4   house_rules          5555 non-null   object \n",
      " 5   property_type        5555 non-null   object \n",
      " 6   room_type            5555 non-null   object \n",
      " 7   bed_type             5555 non-null   object \n",
      " 8   min_nights           5555 non-null   object \n",
      " 9   max_nights           5555 non-null   object \n",
      " 10  cancellation_policy  5555 non-null   object \n",
      " 11  accommodates         5555 non-null   int64  \n",
      " 12  total_bedrooms       5550 non-null   float64\n",
      " 13  total_beds           5542 non-null   float64\n",
      " 14  availability         5555 non-null   int64  \n",
      " 15  price                5555 non-null   int64  \n",
      " 16  security_deposit     5555 non-null   int64  \n",
      " 17  cleaning_fee         5555 non-null   int64  \n",
      " 18  extra_people         5555 non-null   float64\n",
      " 19  guests_included      5555 non-null   float64\n",
      " 20  no_of_reviews        5555 non-null   int64  \n",
      " 21  review_score         4081 non-null   float64\n",
      " 22  amenities            5555 non-null   object \n",
      " 23  host_id              5555 non-null   object \n",
      " 24  host_name            5555 non-null   object \n",
      " 25  Host_total_listings  5555 non-null   int64  \n",
      " 26  street               5555 non-null   object \n",
      " 27  country              5555 non-null   object \n",
      " 28  country_code         5555 non-null   object \n",
      " 29  Longitude            5555 non-null   float64\n",
      " 30  Latitude             5555 non-null   float64\n",
      "dtypes: float64(7), int64(7), object(17)\n",
      "memory usage: 1.3+ MB\n"
     ]
    }
   ],
   "source": [
    "Hotel_df.info()"
   ]
  },
  {
   "cell_type": "code",
   "execution_count": 69,
   "metadata": {},
   "outputs": [
    {
     "data": {
      "text/plain": [
       "id                        0\n",
       "listing_url               0\n",
       "name                      8\n",
       "description              95\n",
       "house_rules            2285\n",
       "property_type             0\n",
       "room_type                 0\n",
       "bed_type                  0\n",
       "min_nights                0\n",
       "max_nights                0\n",
       "cancellation_policy       0\n",
       "accommodates              0\n",
       "total_bedrooms            0\n",
       "total_beds                0\n",
       "availability              0\n",
       "price                     0\n",
       "security_deposit          0\n",
       "cleaning_fee              0\n",
       "extra_people              0\n",
       "guests_included           0\n",
       "no_of_reviews             0\n",
       "review_score              0\n",
       "amenities                30\n",
       "host_id                   0\n",
       "host_name                 0\n",
       "Host_total_listings       0\n",
       "street                    0\n",
       "country                   0\n",
       "country_code              0\n",
       "Longitude                 0\n",
       "Latitude                  0\n",
       "dtype: int64"
      ]
     },
     "execution_count": 69,
     "metadata": {},
     "output_type": "execute_result"
    }
   ],
   "source": [
    "Hotel_df.isna().sum()"
   ]
  },
  {
   "cell_type": "code",
   "execution_count": 64,
   "metadata": {},
   "outputs": [],
   "source": [
    "Hotel_df[['security_deposit','cleaning_fee']]=Hotel_df[['security_deposit','cleaning_fee']].fillna(0)\n",
    "Hotel_df[['price','security_deposit','cleaning_fee']]=Hotel_df[['price','security_deposit','cleaning_fee']].astype(dtype='int64')"
   ]
  },
  {
   "cell_type": "code",
   "execution_count": 68,
   "metadata": {},
   "outputs": [],
   "source": [
    "Hotel_df.replace(r'^\\s*$', np.nan, regex=True, inplace=True) # removes blank spaces\n",
    "Hotel_df['availability'].fillna(Hotel_df['availability'].mode(), inplace=True)\n",
    "Hotel_df['extra_people'].fillna(Hotel_df['extra_people'].median(), inplace=True)\n",
    "Hotel_df['no_of_reviews'].fillna(Hotel_df['no_of_reviews'].min(), inplace=True)\n",
    "Hotel_df['total_bedrooms'].fillna(Hotel_df['total_bedrooms'].median(), inplace=True)\n",
    "Hotel_df['total_beds'].fillna(Hotel_df['total_beds'].median(), inplace=True)\n",
    "Hotel_df['review_score'].fillna(Hotel_df['review_score'].median(), inplace=True)\n",
    "Hotel_df['Host_total_listings'].fillna(Hotel_df['Host_total_listings'].median(), inplace=True)"
   ]
  },
  {
   "cell_type": "code",
   "execution_count": 71,
   "metadata": {},
   "outputs": [],
   "source": [
    "Hotel_df.to_csv('Hotels_data.csv',index=False)"
   ]
  },
  {
   "cell_type": "code",
   "execution_count": null,
   "metadata": {},
   "outputs": [],
   "source": []
  }
 ],
 "metadata": {
  "kernelspec": {
   "display_name": "base",
   "language": "python",
   "name": "python3"
  },
  "language_info": {
   "codemirror_mode": {
    "name": "ipython",
    "version": 3
   },
   "file_extension": ".py",
   "mimetype": "text/x-python",
   "name": "python",
   "nbconvert_exporter": "python",
   "pygments_lexer": "ipython3",
   "version": "3.11.5"
  }
 },
 "nbformat": 4,
 "nbformat_minor": 2
}
